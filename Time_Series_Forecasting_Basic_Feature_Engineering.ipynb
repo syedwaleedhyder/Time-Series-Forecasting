{
  "nbformat": 4,
  "nbformat_minor": 0,
  "metadata": {
    "colab": {
      "name": "Time_Series_Forecasting_Basic_Feature_Engineering",
      "provenance": [],
      "collapsed_sections": []
    },
    "kernelspec": {
      "name": "python3",
      "display_name": "Python 3"
    }
  },
  "cells": [
    {
      "cell_type": "markdown",
      "metadata": {
        "id": "hiFbQPTnjpsm",
        "colab_type": "text"
      },
      "source": [
        "We will use the Minimum Daily Temperatures dataset as an example. This dataset\n",
        "describes the minimum daily temperatures over 10 years (1981-1990) in the city Melbourne,\n",
        "Australia."
      ]
    },
    {
      "cell_type": "code",
      "metadata": {
        "id": "XpwJKobkiSQ9",
        "colab_type": "code",
        "colab": {
          "base_uri": "https://localhost:8080/",
          "height": 204
        },
        "outputId": "338d4bd5-785a-41de-9465-4a286267317b"
      },
      "source": [
        "!wget https://raw.githubusercontent.com/jbrownlee/Datasets/master/daily-min-temperatures.csv"
      ],
      "execution_count": 1,
      "outputs": [
        {
          "output_type": "stream",
          "text": [
            "--2020-08-17 17:33:34--  https://raw.githubusercontent.com/jbrownlee/Datasets/master/daily-min-temperatures.csv\n",
            "Resolving raw.githubusercontent.com (raw.githubusercontent.com)... 151.101.0.133, 151.101.64.133, 151.101.128.133, ...\n",
            "Connecting to raw.githubusercontent.com (raw.githubusercontent.com)|151.101.0.133|:443... connected.\n",
            "HTTP request sent, awaiting response... 200 OK\n",
            "Length: 67921 (66K) [text/plain]\n",
            "Saving to: ‘daily-min-temperatures.csv’\n",
            "\n",
            "\r          daily-min   0%[                    ]       0  --.-KB/s               \rdaily-min-temperatu 100%[===================>]  66.33K  --.-KB/s    in 0.02s   \n",
            "\n",
            "2020-08-17 17:33:34 (2.98 MB/s) - ‘daily-min-temperatures.csv’ saved [67921/67921]\n",
            "\n"
          ],
          "name": "stdout"
        }
      ]
    },
    {
      "cell_type": "markdown",
      "metadata": {
        "id": "ie9W0vByjvmX",
        "colab_type": "text"
      },
      "source": [
        "# Date Time Features"
      ]
    },
    {
      "cell_type": "code",
      "metadata": {
        "id": "RLdZDEBTjxFQ",
        "colab_type": "code",
        "colab": {
          "base_uri": "https://localhost:8080/",
          "height": 119
        },
        "outputId": "74cc5418-811a-4a09-c5bf-7a81101a59c4"
      },
      "source": [
        "# create date time features of a dataset\n",
        "from pandas import read_csv, DataFrame\n",
        "series = read_csv('daily-min-temperatures.csv', header=0, index_col=0, parse_dates=True, squeeze=True)\n",
        "dataframe = DataFrame()\n",
        "dataframe['month'] = [series.index[i].month for i in range(len(series))]\n",
        "dataframe['day'] = [series.index[i].day for i in range(len(series))]\n",
        "dataframe['temperature'] = [series[i] for i in range(len(series))]\n",
        "print(dataframe.head(5))"
      ],
      "execution_count": 2,
      "outputs": [
        {
          "output_type": "stream",
          "text": [
            "   month  day  temperature\n",
            "0      1    1         20.7\n",
            "1      1    2         17.9\n",
            "2      1    3         18.8\n",
            "3      1    4         14.6\n",
            "4      1    5         15.8\n"
          ],
          "name": "stdout"
        }
      ]
    },
    {
      "cell_type": "markdown",
      "metadata": {
        "id": "ixrAQY_ljzhw",
        "colab_type": "text"
      },
      "source": [
        "# Lag Features"
      ]
    },
    {
      "cell_type": "code",
      "metadata": {
        "id": "ZqU5hlFRj1bp",
        "colab_type": "code",
        "colab": {
          "base_uri": "https://localhost:8080/",
          "height": 119
        },
        "outputId": "e2c3f498-e380-47c4-b048-3a10719ef10a"
      },
      "source": [
        "# create a lag feature\n",
        "from pandas import read_csv, DataFrame, concat\n",
        "series = read_csv('daily-min-temperatures.csv', header=0, index_col=0, parse_dates=True, squeeze=True)\n",
        "temps = DataFrame(series.values)\n",
        "dataframe = concat([temps.shift(1), temps], axis=1)\n",
        "dataframe.columns = ['t', 't+1']\n",
        "print(dataframe.head(5))"
      ],
      "execution_count": 4,
      "outputs": [
        {
          "output_type": "stream",
          "text": [
            "      t   t+1\n",
            "0   NaN  20.7\n",
            "1  20.7  17.9\n",
            "2  17.9  18.8\n",
            "3  18.8  14.6\n",
            "4  14.6  15.8\n"
          ],
          "name": "stdout"
        }
      ]
    },
    {
      "cell_type": "code",
      "metadata": {
        "id": "PPin1A1Mf3mw",
        "colab_type": "code",
        "colab": {
          "base_uri": "https://localhost:8080/",
          "height": 119
        },
        "outputId": "948203e7-d38d-466a-a2a2-c8e21223f163"
      },
      "source": [
        "# create a lag feature\n",
        "from pandas import read_csv, DataFrame, concat\n",
        "series = read_csv('daily-min-temperatures.csv', header=0, index_col=0, parse_dates=True, squeeze=True)\n",
        "temps = DataFrame(series.values)\n",
        "dataframe = concat([temps.shift(3), temps.shift(2), temps.shift(1), temps], axis=1)\n",
        "dataframe.columns = ['t-2', 't-1', 't', 't+1']\n",
        "print(dataframe.head(5))\n"
      ],
      "execution_count": 5,
      "outputs": [
        {
          "output_type": "stream",
          "text": [
            "    t-2   t-1     t   t+1\n",
            "0   NaN   NaN   NaN  20.7\n",
            "1   NaN   NaN  20.7  17.9\n",
            "2   NaN  20.7  17.9  18.8\n",
            "3  20.7  17.9  18.8  14.6\n",
            "4  17.9  18.8  14.6  15.8\n"
          ],
          "name": "stdout"
        }
      ]
    },
    {
      "cell_type": "markdown",
      "metadata": {
        "id": "FyQLkLCqj4G3",
        "colab_type": "text"
      },
      "source": [
        "# Rolling Window Statistics"
      ]
    },
    {
      "cell_type": "code",
      "metadata": {
        "id": "xEBNw7PKj5KJ",
        "colab_type": "code",
        "colab": {}
      },
      "source": [
        ""
      ],
      "execution_count": null,
      "outputs": []
    },
    {
      "cell_type": "markdown",
      "metadata": {
        "id": "wOaMkRahj5lP",
        "colab_type": "text"
      },
      "source": [
        "# Expanding Window Statistics"
      ]
    },
    {
      "cell_type": "code",
      "metadata": {
        "id": "QRPRmU_Yj8JI",
        "colab_type": "code",
        "colab": {}
      },
      "source": [
        ""
      ],
      "execution_count": null,
      "outputs": []
    }
  ]
}