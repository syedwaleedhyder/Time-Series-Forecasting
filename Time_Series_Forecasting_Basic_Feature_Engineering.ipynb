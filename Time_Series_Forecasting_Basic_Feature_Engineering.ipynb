{
  "nbformat": 4,
  "nbformat_minor": 0,
  "metadata": {
    "colab": {
      "name": "Time Series Forecasting: Basic Feature Engineering.ipynb",
      "provenance": [],
      "collapsed_sections": []
    },
    "kernelspec": {
      "name": "python3",
      "display_name": "Python 3"
    }
  },
  "cells": [
    {
      "cell_type": "markdown",
      "metadata": {
        "id": "hiFbQPTnjpsm",
        "colab_type": "text"
      },
      "source": [
        "We will use the Minimum Daily Temperatures dataset as an example. This dataset\n",
        "describes the minimum daily temperatures over 10 years (1981-1990) in the city Melbourne,\n",
        "Australia."
      ]
    },
    {
      "cell_type": "code",
      "metadata": {
        "id": "XpwJKobkiSQ9",
        "colab_type": "code",
        "colab": {}
      },
      "source": [
        ""
      ],
      "execution_count": null,
      "outputs": []
    },
    {
      "cell_type": "markdown",
      "metadata": {
        "id": "ie9W0vByjvmX",
        "colab_type": "text"
      },
      "source": [
        "# Date Time Features"
      ]
    },
    {
      "cell_type": "code",
      "metadata": {
        "id": "RLdZDEBTjxFQ",
        "colab_type": "code",
        "colab": {}
      },
      "source": [
        ""
      ],
      "execution_count": null,
      "outputs": []
    },
    {
      "cell_type": "markdown",
      "metadata": {
        "id": "ixrAQY_ljzhw",
        "colab_type": "text"
      },
      "source": [
        "# Lag Features"
      ]
    },
    {
      "cell_type": "code",
      "metadata": {
        "id": "ZqU5hlFRj1bp",
        "colab_type": "code",
        "colab": {}
      },
      "source": [
        ""
      ],
      "execution_count": null,
      "outputs": []
    },
    {
      "cell_type": "markdown",
      "metadata": {
        "id": "FyQLkLCqj4G3",
        "colab_type": "text"
      },
      "source": [
        "# Rolling Window Statistics"
      ]
    },
    {
      "cell_type": "code",
      "metadata": {
        "id": "xEBNw7PKj5KJ",
        "colab_type": "code",
        "colab": {}
      },
      "source": [
        ""
      ],
      "execution_count": null,
      "outputs": []
    },
    {
      "cell_type": "markdown",
      "metadata": {
        "id": "wOaMkRahj5lP",
        "colab_type": "text"
      },
      "source": [
        "# Expanding Window Statistics"
      ]
    },
    {
      "cell_type": "code",
      "metadata": {
        "id": "QRPRmU_Yj8JI",
        "colab_type": "code",
        "colab": {}
      },
      "source": [
        ""
      ],
      "execution_count": null,
      "outputs": []
    }
  ]
}