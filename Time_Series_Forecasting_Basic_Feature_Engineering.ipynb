{
  "nbformat": 4,
  "nbformat_minor": 0,
  "metadata": {
    "colab": {
      "name": "Time_Series_Forecasting_Basic_Feature_Engineering",
      "provenance": [],
      "collapsed_sections": [],
      "toc_visible": true
    },
    "kernelspec": {
      "name": "python3",
      "display_name": "Python 3"
    }
  },
  "cells": [
    {
      "cell_type": "markdown",
      "metadata": {
        "id": "hiFbQPTnjpsm",
        "colab_type": "text"
      },
      "source": [
        "We will use the Minimum Daily Temperatures dataset as an example. This dataset\n",
        "describes the minimum daily temperatures over 10 years (1981-1990) in the city Melbourne,\n",
        "Australia."
      ]
    },
    {
      "cell_type": "code",
      "metadata": {
        "id": "XpwJKobkiSQ9",
        "colab_type": "code",
        "colab": {
          "base_uri": "https://localhost:8080/",
          "height": 204
        },
        "outputId": "7c02ad6f-7eea-49f8-8818-aa79db3ab2fa"
      },
      "source": [
        "!wget https://raw.githubusercontent.com/jbrownlee/Datasets/master/daily-min-temperatures.csv"
      ],
      "execution_count": 1,
      "outputs": [
        {
          "output_type": "stream",
          "text": [
            "--2020-08-18 15:37:35--  https://raw.githubusercontent.com/jbrownlee/Datasets/master/daily-min-temperatures.csv\n",
            "Resolving raw.githubusercontent.com (raw.githubusercontent.com)... 151.101.0.133, 151.101.64.133, 151.101.128.133, ...\n",
            "Connecting to raw.githubusercontent.com (raw.githubusercontent.com)|151.101.0.133|:443... connected.\n",
            "HTTP request sent, awaiting response... 200 OK\n",
            "Length: 67921 (66K) [text/plain]\n",
            "Saving to: ‘daily-min-temperatures.csv’\n",
            "\n",
            "\r          daily-min   0%[                    ]       0  --.-KB/s               \rdaily-min-temperatu 100%[===================>]  66.33K  --.-KB/s    in 0.03s   \n",
            "\n",
            "2020-08-18 15:37:35 (2.32 MB/s) - ‘daily-min-temperatures.csv’ saved [67921/67921]\n",
            "\n"
          ],
          "name": "stdout"
        }
      ]
    },
    {
      "cell_type": "markdown",
      "metadata": {
        "id": "ie9W0vByjvmX",
        "colab_type": "text"
      },
      "source": [
        "# Date Time Features"
      ]
    },
    {
      "cell_type": "code",
      "metadata": {
        "id": "RLdZDEBTjxFQ",
        "colab_type": "code",
        "colab": {
          "base_uri": "https://localhost:8080/",
          "height": 119
        },
        "outputId": "ce7bbd53-7d49-4bd8-f444-3cce1150ff2f"
      },
      "source": [
        "# create date time features of a dataset\n",
        "from pandas import read_csv, DataFrame\n",
        "series = read_csv('daily-min-temperatures.csv', header=0, index_col=0, parse_dates=True, squeeze=True)\n",
        "dataframe = DataFrame()\n",
        "dataframe['month'] = [series.index[i].month for i in range(len(series))]\n",
        "dataframe['day'] = [series.index[i].day for i in range(len(series))]\n",
        "dataframe['temperature'] = [series[i] for i in range(len(series))]\n",
        "print(dataframe.head(5))"
      ],
      "execution_count": 2,
      "outputs": [
        {
          "output_type": "stream",
          "text": [
            "   month  day  temperature\n",
            "0      1    1         20.7\n",
            "1      1    2         17.9\n",
            "2      1    3         18.8\n",
            "3      1    4         14.6\n",
            "4      1    5         15.8\n"
          ],
          "name": "stdout"
        }
      ]
    },
    {
      "cell_type": "markdown",
      "metadata": {
        "id": "ixrAQY_ljzhw",
        "colab_type": "text"
      },
      "source": [
        "# Lag Features"
      ]
    },
    {
      "cell_type": "code",
      "metadata": {
        "id": "ZqU5hlFRj1bp",
        "colab_type": "code",
        "colab": {
          "base_uri": "https://localhost:8080/",
          "height": 119
        },
        "outputId": "1ae48ba8-9e94-4060-d702-18eac591f81d"
      },
      "source": [
        "# create a lag feature\n",
        "from pandas import read_csv, DataFrame, concat\n",
        "series = read_csv('daily-min-temperatures.csv', header=0, index_col=0, parse_dates=True, squeeze=True)\n",
        "temps = DataFrame(series.values)\n",
        "dataframe = concat([temps.shift(1), temps], axis=1)\n",
        "dataframe.columns = ['t', 't+1']\n",
        "print(dataframe.head(5))"
      ],
      "execution_count": 3,
      "outputs": [
        {
          "output_type": "stream",
          "text": [
            "      t   t+1\n",
            "0   NaN  20.7\n",
            "1  20.7  17.9\n",
            "2  17.9  18.8\n",
            "3  18.8  14.6\n",
            "4  14.6  15.8\n"
          ],
          "name": "stdout"
        }
      ]
    },
    {
      "cell_type": "code",
      "metadata": {
        "id": "PPin1A1Mf3mw",
        "colab_type": "code",
        "colab": {
          "base_uri": "https://localhost:8080/",
          "height": 119
        },
        "outputId": "b9b2035d-7bb5-4e48-d847-6d82a9b5dc8d"
      },
      "source": [
        "# create a lag feature\n",
        "from pandas import read_csv, DataFrame, concat\n",
        "series = read_csv('daily-min-temperatures.csv', header=0, index_col=0, parse_dates=True, squeeze=True)\n",
        "temps = DataFrame(series.values)\n",
        "dataframe = concat([temps.shift(3), temps.shift(2), temps.shift(1), temps], axis=1)\n",
        "dataframe.columns = ['t-2', 't-1', 't', 't+1']\n",
        "print(dataframe.head(5))\n"
      ],
      "execution_count": 4,
      "outputs": [
        {
          "output_type": "stream",
          "text": [
            "    t-2   t-1     t   t+1\n",
            "0   NaN   NaN   NaN  20.7\n",
            "1   NaN   NaN  20.7  17.9\n",
            "2   NaN  20.7  17.9  18.8\n",
            "3  20.7  17.9  18.8  14.6\n",
            "4  17.9  18.8  14.6  15.8\n"
          ],
          "name": "stdout"
        }
      ]
    },
    {
      "cell_type": "markdown",
      "metadata": {
        "id": "FyQLkLCqj4G3",
        "colab_type": "text"
      },
      "source": [
        "# Rolling Window Statistics"
      ]
    },
    {
      "cell_type": "code",
      "metadata": {
        "id": "xEBNw7PKj5KJ",
        "colab_type": "code",
        "colab": {
          "base_uri": "https://localhost:8080/",
          "height": 119
        },
        "outputId": "b60aba1e-1d23-41b5-9dbf-e03a83dd7c40"
      },
      "source": [
        "# create a rolling mean feature\n",
        "from pandas import read_csv\n",
        "from pandas import DataFrame\n",
        "from pandas import concat\n",
        "series = read_csv('daily-min-temperatures.csv', header=0, index_col=0, parse_dates=True, squeeze=True)\n",
        "temps = DataFrame(series.values)\n",
        "shifted = temps.shift(1)\n",
        "window = shifted.rolling(window=2)\n",
        "means = window.mean()\n",
        "dataframe = concat([means, temps], axis=1)\n",
        "dataframe.columns = ['mean(t-1,t)', 't+1']\n",
        "print(dataframe.head(5))"
      ],
      "execution_count": 5,
      "outputs": [
        {
          "output_type": "stream",
          "text": [
            "   mean(t-1,t)   t+1\n",
            "0          NaN  20.7\n",
            "1          NaN  17.9\n",
            "2        19.30  18.8\n",
            "3        18.35  14.6\n",
            "4        16.70  15.8\n"
          ],
          "name": "stdout"
        }
      ]
    },
    {
      "cell_type": "code",
      "metadata": {
        "id": "uoZE5WGFOuNE",
        "colab_type": "code",
        "colab": {
          "base_uri": "https://localhost:8080/",
          "height": 204
        },
        "outputId": "1b019979-ba0a-4937-b00d-965b7d5d5416"
      },
      "source": [
        "# create rolling statistics features\n",
        "from pandas import read_csv\n",
        "from pandas import DataFrame\n",
        "from pandas import concat\n",
        "series = read_csv('daily-min-temperatures.csv', header=0, index_col=0, parse_dates=True, squeeze=True)\n",
        "temps = DataFrame(series.values)\n",
        "width = 3\n",
        "shifted = temps.shift(width - 1)\n",
        "window = shifted.rolling(window=width)\n",
        "dataframe = concat([window.min(), window.mean(), window.max(), temps], axis=1)\n",
        "dataframe.columns = ['min', 'mean', 'max', 't+1']\n",
        "print(dataframe.head(10))"
      ],
      "execution_count": 7,
      "outputs": [
        {
          "output_type": "stream",
          "text": [
            "    min       mean   max   t+1\n",
            "0   NaN        NaN   NaN  20.7\n",
            "1   NaN        NaN   NaN  17.9\n",
            "2   NaN        NaN   NaN  18.8\n",
            "3   NaN        NaN   NaN  14.6\n",
            "4  17.9  19.133333  20.7  15.8\n",
            "5  14.6  17.100000  18.8  15.8\n",
            "6  14.6  16.400000  18.8  15.8\n",
            "7  14.6  15.400000  15.8  17.4\n",
            "8  15.8  15.800000  15.8  21.8\n",
            "9  15.8  16.333333  17.4  20.0\n"
          ],
          "name": "stdout"
        }
      ]
    },
    {
      "cell_type": "markdown",
      "metadata": {
        "id": "wOaMkRahj5lP",
        "colab_type": "text"
      },
      "source": [
        "# Expanding Window Statistics"
      ]
    },
    {
      "cell_type": "code",
      "metadata": {
        "id": "QRPRmU_Yj8JI",
        "colab_type": "code",
        "colab": {
          "base_uri": "https://localhost:8080/",
          "height": 119
        },
        "outputId": "a465e114-e8e6-4f34-b2d1-f989298457ad"
      },
      "source": [
        "# create expanding window features\n",
        "from pandas import read_csv\n",
        "from pandas import DataFrame\n",
        "from pandas import concat\n",
        "series = read_csv('daily-min-temperatures.csv', header=0, index_col=0, parse_dates=True, squeeze=True)\n",
        "temps = DataFrame(series.values)\n",
        "window = temps.expanding()\n",
        "dataframe = concat([window.min(), window.mean(), window.max(), temps.shift(-1)], axis=1)\n",
        "dataframe.columns = ['min', 'mean', 'max', 't+1']\n",
        "print(dataframe.head(5))"
      ],
      "execution_count": 8,
      "outputs": [
        {
          "output_type": "stream",
          "text": [
            "    min       mean   max   t+1\n",
            "0  20.7  20.700000  20.7  17.9\n",
            "1  17.9  19.300000  20.7  18.8\n",
            "2  17.9  19.133333  20.7  14.6\n",
            "3  14.6  18.000000  20.7  15.8\n",
            "4  14.6  17.560000  20.7  15.8\n"
          ],
          "name": "stdout"
        }
      ]
    }
  ]
}